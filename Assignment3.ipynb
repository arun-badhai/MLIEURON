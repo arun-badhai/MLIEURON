{
  "nbformat": 4,
  "nbformat_minor": 0,
  "metadata": {
    "colab": {
      "name": "Assignment3.ipynb",
      "provenance": [],
      "collapsed_sections": [
        "WKat-ZpzOi9n"
      ],
      "authorship_tag": "ABX9TyMbGuCuBA4TNFtnpgUmNM59",
      "include_colab_link": true
    },
    "kernelspec": {
      "name": "python3",
      "display_name": "Python 3"
    }
  },
  "cells": [
    {
      "cell_type": "markdown",
      "metadata": {
        "id": "view-in-github",
        "colab_type": "text"
      },
      "source": [
        "<a href=\"https://colab.research.google.com/github/arun-badhai/MLIEURON/blob/master/Assignment3.ipynb\" target=\"_parent\"><img src=\"https://colab.research.google.com/assets/colab-badge.svg\" alt=\"Open In Colab\"/></a>"
      ]
    },
    {
      "cell_type": "markdown",
      "metadata": {
        "id": "WKat-ZpzOi9n",
        "colab_type": "text"
      },
      "source": [
        "# **Task 1:**"
      ]
    },
    {
      "cell_type": "markdown",
      "metadata": {
        "id": "ldF5hV0-OsNj",
        "colab_type": "text"
      },
      "source": [
        " *1.1 Write a Python Program to implement your own myreduce() function which works exactly like\n",
        "Python's built-in function reduce()*"
      ]
    },
    {
      "cell_type": "code",
      "metadata": {
        "id": "_k3JGj1ROxMc",
        "colab_type": "code",
        "colab": {}
      },
      "source": [
        "# ****************************************************1st way*******************************************\n",
        "def myreduce(func, iterable, start=None):\n",
        "    it = iter(iterable)\n",
        "    if start is None:\n",
        "        try:\n",
        "            start = next(it)\n",
        "        except StopIteration:\n",
        "            raise TypeError('reduce() of empty sequence with no initial value')\n",
        "    accum_value = start\n",
        "    for x in iterable[1:]:\n",
        "        accum_value = func(accum_value, x)\n",
        "    return accum_value\n"
      ],
      "execution_count": 0,
      "outputs": []
    },
    {
      "cell_type": "code",
      "metadata": {
        "id": "aqiw-FQLZ-fi",
        "colab_type": "code",
        "colab": {
          "base_uri": "https://localhost:8080/",
          "height": 35
        },
        "outputId": "d0165c10-977c-43bb-a01e-0cf96f7ca665"
      },
      "source": [
        "lst = [4,1,4,5,6,8,9,8]\n",
        "myreduce(lambda a,b:a+b,lst)"
      ],
      "execution_count": 17,
      "outputs": [
        {
          "output_type": "execute_result",
          "data": {
            "text/plain": [
              "45"
            ]
          },
          "metadata": {
            "tags": []
          },
          "execution_count": 17
        }
      ]
    },
    {
      "cell_type": "code",
      "metadata": {
        "id": "7i2Ey213hiUe",
        "colab_type": "code",
        "colab": {
          "base_uri": "https://localhost:8080/",
          "height": 35
        },
        "outputId": "de7b6e62-7fa2-4905-a18c-2eee723adef6"
      },
      "source": [
        "# To test our result match with the inbuild function result\n",
        "from functools import reduce\n",
        "lst1 = [4,1,4,5,6,8,9,8]\n",
        "reduce(lambda a,b:a+b,lst1)"
      ],
      "execution_count": 13,
      "outputs": [
        {
          "output_type": "execute_result",
          "data": {
            "text/plain": [
              "45"
            ]
          },
          "metadata": {
            "tags": []
          },
          "execution_count": 13
        }
      ]
    },
    {
      "cell_type": "code",
      "metadata": {
        "id": "uZ4nSoS0uo8Q",
        "colab_type": "code",
        "colab": {}
      },
      "source": [
        "#********************************************************2nd way ******************************\n",
        "\n",
        "def myreduce2(fun,sec):\n",
        "  first =sec[0]\n",
        "  for i in sec[1:]:\n",
        "    first=fun(first,i)\n",
        "  return first  \n"
      ],
      "execution_count": 0,
      "outputs": []
    },
    {
      "cell_type": "code",
      "metadata": {
        "id": "LeMfe7Rhvt-C",
        "colab_type": "code",
        "colab": {
          "base_uri": "https://localhost:8080/",
          "height": 35
        },
        "outputId": "25cd7690-3870-4002-8150-e8d0f5996aa4"
      },
      "source": [
        "sec=[1,2,3,4,5,6,7]\n",
        "myreduce2(lambda a,b:a+b,sec)"
      ],
      "execution_count": 21,
      "outputs": [
        {
          "output_type": "execute_result",
          "data": {
            "text/plain": [
              "28"
            ]
          },
          "metadata": {
            "tags": []
          },
          "execution_count": 21
        }
      ]
    },
    {
      "cell_type": "code",
      "metadata": {
        "id": "PRnuMgdmv7st",
        "colab_type": "code",
        "colab": {
          "base_uri": "https://localhost:8080/",
          "height": 35
        },
        "outputId": "d0ecd983-1ada-4812-c793-b31863e9f896"
      },
      "source": [
        "sec=[1,2,3,4,5,6,7]\n",
        "myreduce(lambda a,b:a+b,sec)"
      ],
      "execution_count": 22,
      "outputs": [
        {
          "output_type": "execute_result",
          "data": {
            "text/plain": [
              "28"
            ]
          },
          "metadata": {
            "tags": []
          },
          "execution_count": 22
        }
      ]
    },
    {
      "cell_type": "markdown",
      "metadata": {
        "id": "8QsIUrUP00tb",
        "colab_type": "text"
      },
      "source": [
        "*1.2\n",
        "Write a Python program to implement your own myfilter() function which works exactly like\n",
        "Python's built-in function filter()*"
      ]
    },
    {
      "cell_type": "code",
      "metadata": {
        "id": "ydW0FqZV06jJ",
        "colab_type": "code",
        "colab": {}
      },
      "source": [
        "def myFilter(anyfun,sec):\n",
        "   result=[]\n",
        "   for item in sec:\n",
        "     if anyfun(item):\n",
        "        result.append(item)\n",
        "   return result     "
      ],
      "execution_count": 0,
      "outputs": []
    },
    {
      "cell_type": "code",
      "metadata": {
        "id": "pGRp5DiH482T",
        "colab_type": "code",
        "colab": {
          "base_uri": "https://localhost:8080/",
          "height": 35
        },
        "outputId": "3df0c989-b965-47f3-d23b-7db74726957c"
      },
      "source": [
        "myFilter(lambda a:a%2==0,[1,2,3,4,5,6,7,8])"
      ],
      "execution_count": 32,
      "outputs": [
        {
          "output_type": "execute_result",
          "data": {
            "text/plain": [
              "[2, 4, 6, 8]"
            ]
          },
          "metadata": {
            "tags": []
          },
          "execution_count": 32
        }
      ]
    },
    {
      "cell_type": "code",
      "metadata": {
        "id": "wIyT6a_e5Hc6",
        "colab_type": "code",
        "colab": {
          "base_uri": "https://localhost:8080/",
          "height": 35
        },
        "outputId": "f78c1533-416c-4a96-b577-d7cd2192b1cd"
      },
      "source": [
        "list(filter(lambda a:a%2==0,[1,2,3,4,5,6,7,8]))"
      ],
      "execution_count": 34,
      "outputs": [
        {
          "output_type": "execute_result",
          "data": {
            "text/plain": [
              "[2, 4, 6, 8]"
            ]
          },
          "metadata": {
            "tags": []
          },
          "execution_count": 34
        }
      ]
    },
    {
      "cell_type": "markdown",
      "metadata": {
        "id": "LpU4cJjx5b-6",
        "colab_type": "text"
      },
      "source": [
        "**2.\n",
        "Implement List comprehensions to produce the following lists.\n",
        "Write List comprehensions to produce the following Lists*\n",
        "\n",
        "\n",
        "*['A', 'C', 'A', 'D', 'G', 'I', ’L’, ‘ D’]\n",
        "\n",
        "['x', 'xx', 'xxx', 'xxxx', 'y', 'yy', 'yyy', 'yyyy', 'z', 'zz', 'zzz', 'zzzz']\n",
        "\n",
        "['x', 'y', 'z', 'xx', 'yy', 'zz', 'xx', 'yy', 'zz', 'xxxx', 'yyyy', 'zzzz']\n",
        "\n",
        "[[2], [3], [4], [3], [4], [5], [4], [5], [6]]\n",
        "\n",
        "[[2, 3, 4, 5], [3, 4, 5, 6], [4, 5, 6, 7], [5, 6, 7, 8]]\n",
        "\n",
        "[(1, 1), (2, 1), (3, 1), (1, 2), (2, 2), (3, 2), (1, 3), (2, 3), (3, 3)] **"
      ]
    },
    {
      "cell_type": "code",
      "metadata": {
        "id": "s0uufA575hR1",
        "colab_type": "code",
        "colab": {
          "base_uri": "https://localhost:8080/",
          "height": 35
        },
        "outputId": "9cefd5d6-4013-4b67-d045-4e090a9b0922"
      },
      "source": [
        "word ='ACADGILD'\n",
        "\n",
        "alphabet_list=[alphabet for alphabet in word ]\n",
        "alphabet_list"
      ],
      "execution_count": 35,
      "outputs": [
        {
          "output_type": "execute_result",
          "data": {
            "text/plain": [
              "['A', 'C', 'A', 'D', 'G', 'I', 'L', 'D']"
            ]
          },
          "metadata": {
            "tags": []
          },
          "execution_count": 35
        }
      ]
    },
    {
      "cell_type": "code",
      "metadata": {
        "id": "eF3z90L96neT",
        "colab_type": "code",
        "colab": {
          "base_uri": "https://localhost:8080/",
          "height": 35
        },
        "outputId": "ddd29717-d363-4c6b-a9db-a4422e7433ea"
      },
      "source": [
        "imput = ['x','y','z']\n",
        "result = [ item * num for item in imput for num in range(1,5)]\n",
        "result"
      ],
      "execution_count": 41,
      "outputs": [
        {
          "output_type": "execute_result",
          "data": {
            "text/plain": [
              "['x', 'xx', 'xxx', 'xxxx', 'y', 'yy', 'yyy', 'yyyy', 'z', 'zz', 'zzz', 'zzzz']"
            ]
          },
          "metadata": {
            "tags": []
          },
          "execution_count": 41
        }
      ]
    },
    {
      "cell_type": "code",
      "metadata": {
        "id": "OX1KwhdI72vq",
        "colab_type": "code",
        "colab": {
          "base_uri": "https://localhost:8080/",
          "height": 35
        },
        "outputId": "df6846e3-96ea-406e-9a6a-b13f9725efd4"
      },
      "source": [
        "input_val = ['x','y','z']\n",
        "\n",
        "result = [ item * num   for num in range(1,5) for item in input_val]\n",
        "result"
      ],
      "execution_count": 42,
      "outputs": [
        {
          "output_type": "execute_result",
          "data": {
            "text/plain": [
              "['x', 'y', 'z', 'xx', 'yy', 'zz', 'xxx', 'yyy', 'zzz', 'xxxx', 'yyyy', 'zzzz']"
            ]
          },
          "metadata": {
            "tags": []
          },
          "execution_count": 42
        }
      ]
    },
    {
      "cell_type": "code",
      "metadata": {
        "id": "FYkAG_52Achr",
        "colab_type": "code",
        "colab": {
          "base_uri": "https://localhost:8080/",
          "height": 35
        },
        "outputId": "534341c6-0ffa-4fc1-d225-14f5993e5d27"
      },
      "source": [
        "input_list = [2,3,4]\n",
        "[[item+num] for item in input_list for num in range(0,3)]"
      ],
      "execution_count": 45,
      "outputs": [
        {
          "output_type": "execute_result",
          "data": {
            "text/plain": [
              "[[2], [3], [4], [3], [4], [5], [4], [5], [6]]"
            ]
          },
          "metadata": {
            "tags": []
          },
          "execution_count": 45
        }
      ]
    },
    {
      "cell_type": "code",
      "metadata": {
        "id": "LM2l_ltyCPnp",
        "colab_type": "code",
        "colab": {
          "base_uri": "https://localhost:8080/",
          "height": 35
        },
        "outputId": "f79fe945-c79f-4040-d833-c82a221dbbae"
      },
      "source": [
        "input_list = [2,3,4,5]\n",
        "[[item+num for item in input_list] for num in range(0,4) ]\n"
      ],
      "execution_count": 61,
      "outputs": [
        {
          "output_type": "execute_result",
          "data": {
            "text/plain": [
              "[[2, 3, 4, 5], [3, 4, 5, 6], [4, 5, 6, 7], [5, 6, 7, 8]]"
            ]
          },
          "metadata": {
            "tags": []
          },
          "execution_count": 61
        }
      ]
    },
    {
      "cell_type": "code",
      "metadata": {
        "id": "tPD1vhaDFlem",
        "colab_type": "code",
        "colab": {
          "base_uri": "https://localhost:8080/",
          "height": 35
        },
        "outputId": "09a54f8e-b8d8-4e2b-d8f9-6f2d0b2c15d2"
      },
      "source": [
        "input_list = [1,2,3]\n",
        "[(num,item) for item in input_list for num in input_list ]"
      ],
      "execution_count": 65,
      "outputs": [
        {
          "output_type": "execute_result",
          "data": {
            "text/plain": [
              "[(1, 1), (2, 1), (3, 1), (1, 2), (2, 2), (3, 2), (1, 3), (2, 3), (3, 3)]"
            ]
          },
          "metadata": {
            "tags": []
          },
          "execution_count": 65
        }
      ]
    }
  ]
}