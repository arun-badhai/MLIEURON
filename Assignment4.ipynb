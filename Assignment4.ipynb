{
  "nbformat": 4,
  "nbformat_minor": 0,
  "metadata": {
    "colab": {
      "name": "Assignment4.ipynb",
      "provenance": [],
      "authorship_tag": "ABX9TyNCR5wIVzBfqbwkMefmOUvt",
      "include_colab_link": true
    },
    "kernelspec": {
      "name": "python3",
      "display_name": "Python 3"
    }
  },
  "cells": [
    {
      "cell_type": "markdown",
      "metadata": {
        "id": "view-in-github",
        "colab_type": "text"
      },
      "source": [
        "<a href=\"https://colab.research.google.com/github/arun-badhai/MLIEURON/blob/master/Assignment4.ipynb\" target=\"_parent\"><img src=\"https://colab.research.google.com/assets/colab-badge.svg\" alt=\"Open In Colab\"/></a>"
      ]
    },
    {
      "cell_type": "markdown",
      "metadata": {
        "id": "kmwf7CxnJl0d",
        "colab_type": "text"
      },
      "source": [
        "*1.1 Write a Python Program(with class concepts) to find the area of the triangle using the below\n",
        "formula.\n",
        "area = (s*(s-a)*(s-b)*(s-c)) ** 0.5\n",
        "Function to take the length of the sides of triangle from user should be defined in the parent\n",
        "class and function to calculate the area should be defined in subclass.*"
      ]
    },
    {
      "cell_type": "code",
      "metadata": {
        "id": "vZX9DDEJJuEw",
        "colab_type": "code",
        "colab": {}
      },
      "source": [
        ""
      ],
      "execution_count": 0,
      "outputs": []
    },
    {
      "cell_type": "markdown",
      "metadata": {
        "id": "mIV2Da8YJ1tm",
        "colab_type": "text"
      },
      "source": [
        "*1.2 Write a function filter_long_words() that takes a list of words and an integer n and returns\n",
        "the list of words that are longer than n.*"
      ]
    },
    {
      "cell_type": "code",
      "metadata": {
        "id": "KWfZujJuJ34F",
        "colab_type": "code",
        "colab": {}
      },
      "source": [
        "def filter_long_words(lst,n):\n",
        "  result =[]\n",
        "  for i in lst:\n",
        "    if i>n:\n",
        "      result.append(i)\n",
        "  return result    "
      ],
      "execution_count": 0,
      "outputs": []
    },
    {
      "cell_type": "code",
      "metadata": {
        "id": "FQhdoFp2KdxQ",
        "colab_type": "code",
        "colab": {
          "base_uri": "https://localhost:8080/",
          "height": 35
        },
        "outputId": "65048f40-7b50-4ddd-b81a-647023af8a74"
      },
      "source": [
        "filter_long_words([1,2,3,4,3,6,7,89],4)"
      ],
      "execution_count": 2,
      "outputs": [
        {
          "output_type": "execute_result",
          "data": {
            "text/plain": [
              "[6, 7, 89]"
            ]
          },
          "metadata": {
            "tags": []
          },
          "execution_count": 2
        }
      ]
    },
    {
      "cell_type": "markdown",
      "metadata": {
        "id": "AbX48b0rKu7K",
        "colab_type": "text"
      },
      "source": [
        "*2.1 Write a Python program using function concept that maps list of words into a list of integers\n",
        "representing the lengths of the corresponding words.\n",
        "Hint: If a list [ ab,cde,erty] is passed on to the python function output should come as [2,3,4]\n",
        "Here 2,3 and 4 are the lengths of the words in the list.*"
      ]
    },
    {
      "cell_type": "code",
      "metadata": {
        "id": "Q3KVpafCKtxg",
        "colab_type": "code",
        "colab": {}
      },
      "source": [
        "def count_word(lst):\n",
        "  \n",
        " return [len(i)for i in lst]\n",
        "\n"
      ],
      "execution_count": 0,
      "outputs": []
    },
    {
      "cell_type": "code",
      "metadata": {
        "id": "x5A2NTSULQrH",
        "colab_type": "code",
        "colab": {
          "base_uri": "https://localhost:8080/",
          "height": 35
        },
        "outputId": "78719888-7bb6-45d8-cbcf-402ace2322a5"
      },
      "source": [
        "count_word(['aa','r','abc','arun','hello'])"
      ],
      "execution_count": 7,
      "outputs": [
        {
          "output_type": "execute_result",
          "data": {
            "text/plain": [
              "[2, 1, 3, 4, 5]"
            ]
          },
          "metadata": {
            "tags": []
          },
          "execution_count": 7
        }
      ]
    },
    {
      "cell_type": "code",
      "metadata": {
        "id": "z7ofuQ9uLzyd",
        "colab_type": "code",
        "colab": {}
      },
      "source": [
        ""
      ],
      "execution_count": 0,
      "outputs": []
    },
    {
      "cell_type": "markdown",
      "metadata": {
        "id": "Tx-nXItgLnSt",
        "colab_type": "text"
      },
      "source": [
        "*2.2 Write a Python function which takes a character (i.e. a string of length 1) and returns True if\n",
        "it is a vowel, False otherwise.*"
      ]
    },
    {
      "cell_type": "code",
      "metadata": {
        "id": "Y-6evypoLmTH",
        "colab_type": "code",
        "colab": {}
      },
      "source": [
        "def is_vowel(char):\n",
        "  vowel=('a','e','i','o','u')\n",
        "  if char not in vowel:\n",
        "    return False\n",
        "  return True  "
      ],
      "execution_count": 0,
      "outputs": []
    },
    {
      "cell_type": "code",
      "metadata": {
        "id": "bvzJ0JNgMkQW",
        "colab_type": "code",
        "colab": {
          "base_uri": "https://localhost:8080/",
          "height": 35
        },
        "outputId": "080c5a4b-84d8-4157-cd93-be7f73e3a6e4"
      },
      "source": [
        "is_vowel('r')"
      ],
      "execution_count": 9,
      "outputs": [
        {
          "output_type": "execute_result",
          "data": {
            "text/plain": [
              "False"
            ]
          },
          "metadata": {
            "tags": []
          },
          "execution_count": 9
        }
      ]
    },
    {
      "cell_type": "code",
      "metadata": {
        "id": "EpxQhv-BMnCt",
        "colab_type": "code",
        "colab": {
          "base_uri": "https://localhost:8080/",
          "height": 35
        },
        "outputId": "e4f16b2c-47d7-40db-acfa-07f6610f792f"
      },
      "source": [
        "is_vowel('a')"
      ],
      "execution_count": 10,
      "outputs": [
        {
          "output_type": "execute_result",
          "data": {
            "text/plain": [
              "True"
            ]
          },
          "metadata": {
            "tags": []
          },
          "execution_count": 10
        }
      ]
    }
  ]
}